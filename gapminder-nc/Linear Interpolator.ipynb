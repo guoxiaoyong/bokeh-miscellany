{
 "cells": [
  {
   "cell_type": "code",
   "execution_count": null,
   "metadata": {},
   "outputs": [],
   "source": [
    "import bokeh\n",
    "import pandas as pd\n",
    "\n",
    "from bokeh.io import output_notebook, show\n",
    "from bokeh.plotting import figure\n",
    "from bokeh.models import (\n",
    "    LinearInterpolator,\n",
    "    ColumnDataSource, \n",
    "    HoverTool,\n",
    ")\n",
    "output_notebook()\n",
    "print('boken version: %s' % bokeh.__version__)"
   ]
  },
  {
   "cell_type": "code",
   "execution_count": null,
   "metadata": {},
   "outputs": [],
   "source": [
    "data = pd.read_csv('gpm2.csv', index_col='year')\n",
    "print('data.dtypes is of type: %s' % type(data.dtypes))\n",
    "print('data.dtypes contents: \\n%s\\n' % data.dtypes)\n",
    "data.head()"
   ]
  },
  {
   "cell_type": "code",
   "execution_count": null,
   "metadata": {},
   "outputs": [],
   "source": [
    "source = ColumnDataSource(dict(\n",
    "    x=data.loc[2007].gdpPercap,\n",
    "    y=data.loc[2007].lifeExp,\n",
    "    country=data.loc[2007].country,\n",
    "    population=data.loc[2007].population,\n",
    "    continent=data.loc[2007].continent\n",
    "))"
   ]
  },
  {
   "cell_type": "code",
   "execution_count": null,
   "metadata": {},
   "outputs": [],
   "source": [
    "def make_plot():\n",
    "    return figure(\n",
    "        tools=[\n",
    "            HoverTool(tooltips=[\n",
    "                ('country','@country'),\n",
    "                ('population','@population{int}'), \n",
    "                ('GDP per Capita', '$x'),\n",
    "            ])],\n",
    "        height=400,\n",
    "        x_axis_type='log',\n",
    "        x_range=(100, 100000),\n",
    "        y_range=(0, 100)\n",
    "    )"
   ]
  },
  {
   "cell_type": "code",
   "execution_count": null,
   "metadata": {},
   "outputs": [],
   "source": [
    "p = make_plot()\n",
    "size_mapper=LinearInterpolator(\n",
    "    x=[data.population.min(), data.population.max()],\n",
    "    y=[5,50]\n",
    ")\n",
    "p.circle(\n",
    "    x='x',y='y', \n",
    "    size={'field':'population', 'transform': size_mapper},\n",
    "    alpha=0.6,\n",
    "    source=source\n",
    ")\n",
    "show(p)"
   ]
  }
 ],
 "metadata": {
  "kernelspec": {
   "display_name": "Python 3",
   "language": "python",
   "name": "python3"
  },
  "language_info": {
   "codemirror_mode": {
    "name": "ipython",
    "version": 3
   },
   "file_extension": ".py",
   "mimetype": "text/x-python",
   "name": "python",
   "nbconvert_exporter": "python",
   "pygments_lexer": "ipython3",
   "version": "3.6.3"
  }
 },
 "nbformat": 4,
 "nbformat_minor": 1
}
