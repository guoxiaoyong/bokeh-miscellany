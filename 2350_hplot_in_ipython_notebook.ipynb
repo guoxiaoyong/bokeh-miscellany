{
 "cells": [
  {
   "cell_type": "code",
   "execution_count": 1,
   "metadata": {},
   "outputs": [
    {
     "ename": "ImportError",
     "evalue": "cannot import name 'hplot'",
     "output_type": "error",
     "traceback": [
      "\u001b[0;31m---------------------------------------------------------------------------\u001b[0m",
      "\u001b[0;31mImportError\u001b[0m                               Traceback (most recent call last)",
      "\u001b[0;32m<ipython-input-1-599aaece0de8>\u001b[0m in \u001b[0;36m<module>\u001b[0;34m()\u001b[0m\n\u001b[1;32m      1\u001b[0m \u001b[0;32mimport\u001b[0m \u001b[0mnumpy\u001b[0m \u001b[0;32mas\u001b[0m \u001b[0mnp\u001b[0m\u001b[0;34m\u001b[0m\u001b[0m\n\u001b[1;32m      2\u001b[0m \u001b[0;34m\u001b[0m\u001b[0m\n\u001b[0;32m----> 3\u001b[0;31m \u001b[0;32mfrom\u001b[0m \u001b[0mbokeh\u001b[0m\u001b[0;34m.\u001b[0m\u001b[0mplotting\u001b[0m \u001b[0;32mimport\u001b[0m \u001b[0mfigure\u001b[0m\u001b[0;34m,\u001b[0m \u001b[0mshow\u001b[0m\u001b[0;34m,\u001b[0m \u001b[0moutput_notebook\u001b[0m\u001b[0;34m,\u001b[0m \u001b[0mhplot\u001b[0m\u001b[0;34m,\u001b[0m \u001b[0mvplot\u001b[0m\u001b[0;34m,\u001b[0m \u001b[0msave\u001b[0m\u001b[0;34m\u001b[0m\u001b[0m\n\u001b[0m\u001b[1;32m      4\u001b[0m \u001b[0;32mfrom\u001b[0m \u001b[0mbokeh\u001b[0m\u001b[0;34m.\u001b[0m\u001b[0mresources\u001b[0m \u001b[0;32mimport\u001b[0m \u001b[0mCDN\u001b[0m\u001b[0;34m\u001b[0m\u001b[0m\n\u001b[1;32m      5\u001b[0m \u001b[0;32mfrom\u001b[0m \u001b[0mbokeh\u001b[0m\u001b[0;34m.\u001b[0m\u001b[0mbrowserlib\u001b[0m \u001b[0;32mimport\u001b[0m \u001b[0mview\u001b[0m\u001b[0;34m\u001b[0m\u001b[0m\n",
      "\u001b[0;31mImportError\u001b[0m: cannot import name 'hplot'"
     ]
    }
   ],
   "source": [
    "import numpy as np\n",
    "\n",
    "from bokeh.plotting import figure, show, output_notebook, hplot, vplot, save\n",
    "from bokeh.resources import CDN\n",
    "from bokeh.browserlib import view\n",
    "output_notebook()"
   ]
  },
  {
   "cell_type": "code",
   "execution_count": 2,
   "metadata": {},
   "outputs": [
    {
     "data": {
      "text/html": [
       "<div style=\"display: table;\"><div style=\"display: table-row;\"><div style=\"display: table-cell;\"><b title=\"bokeh.models.renderers.GlyphRenderer\">GlyphRenderer</b>(</div><div style=\"display: table-cell;\">id&nbsp;=&nbsp;'dd7dc03c-f136-4820-b2d7-a8a489743c4a', <span id=\"e3360686-16a0-4b3a-8d46-fe2ecb64d4be\" style=\"cursor: pointer;\">&hellip;)</span></div></div><div class=\"88b615bc-149c-418f-ab74-f1e3f07cf1aa\" style=\"display: none;\"><div style=\"display: table-cell;\"></div><div style=\"display: table-cell;\">data_source&nbsp;=&nbsp;ColumnDataSource(id='16419380-4eff-4de5-ad06-974eafe708e8', ...),</div></div><div class=\"88b615bc-149c-418f-ab74-f1e3f07cf1aa\" style=\"display: none;\"><div style=\"display: table-cell;\"></div><div style=\"display: table-cell;\">glyph&nbsp;=&nbsp;Square(id='d8aebe82-81d1-4e72-9e57-bf8f3374c2ff', ...),</div></div><div class=\"88b615bc-149c-418f-ab74-f1e3f07cf1aa\" style=\"display: none;\"><div style=\"display: table-cell;\"></div><div style=\"display: table-cell;\">hover_glyph&nbsp;=&nbsp;None,</div></div><div class=\"88b615bc-149c-418f-ab74-f1e3f07cf1aa\" style=\"display: none;\"><div style=\"display: table-cell;\"></div><div style=\"display: table-cell;\">js_event_callbacks&nbsp;=&nbsp;{},</div></div><div class=\"88b615bc-149c-418f-ab74-f1e3f07cf1aa\" style=\"display: none;\"><div style=\"display: table-cell;\"></div><div style=\"display: table-cell;\">js_property_callbacks&nbsp;=&nbsp;{},</div></div><div class=\"88b615bc-149c-418f-ab74-f1e3f07cf1aa\" style=\"display: none;\"><div style=\"display: table-cell;\"></div><div style=\"display: table-cell;\">level&nbsp;=&nbsp;'glyph',</div></div><div class=\"88b615bc-149c-418f-ab74-f1e3f07cf1aa\" style=\"display: none;\"><div style=\"display: table-cell;\"></div><div style=\"display: table-cell;\">muted&nbsp;=&nbsp;False,</div></div><div class=\"88b615bc-149c-418f-ab74-f1e3f07cf1aa\" style=\"display: none;\"><div style=\"display: table-cell;\"></div><div style=\"display: table-cell;\">muted_glyph&nbsp;=&nbsp;None,</div></div><div class=\"88b615bc-149c-418f-ab74-f1e3f07cf1aa\" style=\"display: none;\"><div style=\"display: table-cell;\"></div><div style=\"display: table-cell;\">name&nbsp;=&nbsp;None,</div></div><div class=\"88b615bc-149c-418f-ab74-f1e3f07cf1aa\" style=\"display: none;\"><div style=\"display: table-cell;\"></div><div style=\"display: table-cell;\">nonselection_glyph&nbsp;=&nbsp;Square(id='e5767d5c-a63e-4cad-bf85-005cd08934a2', ...),</div></div><div class=\"88b615bc-149c-418f-ab74-f1e3f07cf1aa\" style=\"display: none;\"><div style=\"display: table-cell;\"></div><div style=\"display: table-cell;\">selection_glyph&nbsp;=&nbsp;None,</div></div><div class=\"88b615bc-149c-418f-ab74-f1e3f07cf1aa\" style=\"display: none;\"><div style=\"display: table-cell;\"></div><div style=\"display: table-cell;\">subscribed_events&nbsp;=&nbsp;[],</div></div><div class=\"88b615bc-149c-418f-ab74-f1e3f07cf1aa\" style=\"display: none;\"><div style=\"display: table-cell;\"></div><div style=\"display: table-cell;\">tags&nbsp;=&nbsp;[],</div></div><div class=\"88b615bc-149c-418f-ab74-f1e3f07cf1aa\" style=\"display: none;\"><div style=\"display: table-cell;\"></div><div style=\"display: table-cell;\">view&nbsp;=&nbsp;CDSView(id='86f5ac5c-ec0f-4d64-a877-9e38844c442d', ...),</div></div><div class=\"88b615bc-149c-418f-ab74-f1e3f07cf1aa\" style=\"display: none;\"><div style=\"display: table-cell;\"></div><div style=\"display: table-cell;\">visible&nbsp;=&nbsp;True,</div></div><div class=\"88b615bc-149c-418f-ab74-f1e3f07cf1aa\" style=\"display: none;\"><div style=\"display: table-cell;\"></div><div style=\"display: table-cell;\">x_range_name&nbsp;=&nbsp;'default',</div></div><div class=\"88b615bc-149c-418f-ab74-f1e3f07cf1aa\" style=\"display: none;\"><div style=\"display: table-cell;\"></div><div style=\"display: table-cell;\">y_range_name&nbsp;=&nbsp;'default')</div></div></div>\n",
       "<script>\n",
       "(function() {\n",
       "  var expanded = false;\n",
       "  var ellipsis = document.getElementById(\"e3360686-16a0-4b3a-8d46-fe2ecb64d4be\");\n",
       "  ellipsis.addEventListener(\"click\", function() {\n",
       "    var rows = document.getElementsByClassName(\"88b615bc-149c-418f-ab74-f1e3f07cf1aa\");\n",
       "    for (var i = 0; i < rows.length; i++) {\n",
       "      var el = rows[i];\n",
       "      el.style.display = expanded ? \"none\" : \"table-row\";\n",
       "    }\n",
       "    ellipsis.innerHTML = expanded ? \"&hellip;)\" : \"&lsaquo;&lsaquo;&lsaquo;\";\n",
       "    expanded = !expanded;\n",
       "  });\n",
       "})();\n",
       "</script>\n"
      ],
      "text/plain": [
       "GlyphRenderer(id='dd7dc03c-f136-4820-b2d7-a8a489743c4a', ...)"
      ]
     },
     "execution_count": 2,
     "metadata": {},
     "output_type": "execute_result"
    }
   ],
   "source": [
    "# Make plots\n",
    "\n",
    "N = 100\n",
    "\n",
    "x = np.linspace(0, 4*np.pi, N)\n",
    "y = np.sin(x)\n",
    "\n",
    "#output_file(\"scatter.html\", title=\"scatter.py example\")\n",
    "\n",
    "opts = dict(\n",
    "    tools=\"pan,wheel_zoom,box_zoom,reset,save,box_select\",\n",
    "    plot_width=300,\n",
    "    plot_height=300,\n",
    "    )\n",
    "\n",
    "p1 = figure(**opts)\n",
    "p1.scatter(x,y, color=\"#FF00FF\", nonselection_fill_color=\"#FFFF00\", nonselection_fill_alpha=1)\n",
    "\n",
    "p2 = figure(**opts)\n",
    "p2.scatter(x,y, color=\"red\")\n",
    "\n",
    "p3 = figure(**opts)\n",
    "p3.scatter(x,y, marker=\"square\", color=\"green\")\n",
    "\n",
    "p4 = figure(**opts)\n",
    "p4.scatter(x,y, marker=\"square\", color=\"blue\")"
   ]
  },
  {
   "cell_type": "code",
   "execution_count": 3,
   "metadata": {},
   "outputs": [
    {
     "ename": "NameError",
     "evalue": "name 'save' is not defined",
     "output_type": "error",
     "traceback": [
      "\u001b[0;31m---------------------------------------------------------------------------\u001b[0m",
      "\u001b[0;31mNameError\u001b[0m                                 Traceback (most recent call last)",
      "\u001b[0;32m<ipython-input-3-dc3fcc7d724f>\u001b[0m in \u001b[0;36m<module>\u001b[0;34m()\u001b[0m\n\u001b[1;32m      1\u001b[0m \u001b[0;31m# Save to a file\u001b[0m\u001b[0;34m\u001b[0m\u001b[0;34m\u001b[0m\u001b[0m\n\u001b[1;32m      2\u001b[0m \u001b[0mfilename\u001b[0m \u001b[0;34m=\u001b[0m \u001b[0;34m'hplot.hmtl'\u001b[0m\u001b[0;34m\u001b[0m\u001b[0m\n\u001b[0;32m----> 3\u001b[0;31m \u001b[0msave\u001b[0m\u001b[0;34m(\u001b[0m\u001b[0mhplot\u001b[0m\u001b[0;34m(\u001b[0m\u001b[0mp1\u001b[0m\u001b[0;34m,\u001b[0m \u001b[0mp2\u001b[0m\u001b[0;34m)\u001b[0m\u001b[0;34m,\u001b[0m \u001b[0mfilename\u001b[0m\u001b[0;34m=\u001b[0m\u001b[0mfilename\u001b[0m\u001b[0;34m,\u001b[0m \u001b[0mresources\u001b[0m\u001b[0;34m=\u001b[0m\u001b[0mCDN\u001b[0m\u001b[0;34m,\u001b[0m \u001b[0mtitle\u001b[0m\u001b[0;34m=\u001b[0m\u001b[0;34m'hplot html'\u001b[0m\u001b[0;34m)\u001b[0m\u001b[0;34m\u001b[0m\u001b[0m\n\u001b[0m\u001b[1;32m      4\u001b[0m \u001b[0mview\u001b[0m\u001b[0;34m(\u001b[0m\u001b[0mfilename\u001b[0m\u001b[0;34m)\u001b[0m\u001b[0;34m\u001b[0m\u001b[0m\n",
      "\u001b[0;31mNameError\u001b[0m: name 'save' is not defined"
     ]
    }
   ],
   "source": [
    "# Save to a file\n",
    "filename = 'hplot.hmtl'\n",
    "save(hplot(p1, p2), filename=filename, resources=CDN, title='hplot html')\n",
    "view(filename)"
   ]
  },
  {
   "cell_type": "code",
   "execution_count": 4,
   "metadata": {},
   "outputs": [
    {
     "ename": "NameError",
     "evalue": "name 'hplot' is not defined",
     "output_type": "error",
     "traceback": [
      "\u001b[0;31m---------------------------------------------------------------------------\u001b[0m",
      "\u001b[0;31mNameError\u001b[0m                                 Traceback (most recent call last)",
      "\u001b[0;32m<ipython-input-4-94bf8c04089c>\u001b[0m in \u001b[0;36m<module>\u001b[0;34m()\u001b[0m\n\u001b[0;32m----> 1\u001b[0;31m \u001b[0mshow\u001b[0m\u001b[0;34m(\u001b[0m\u001b[0mhplot\u001b[0m\u001b[0;34m(\u001b[0m\u001b[0mp1\u001b[0m\u001b[0;34m,\u001b[0m \u001b[0mp2\u001b[0m\u001b[0;34m,\u001b[0m\u001b[0;34m)\u001b[0m\u001b[0;34m)\u001b[0m\u001b[0;34m\u001b[0m\u001b[0m\n\u001b[0m",
      "\u001b[0;31mNameError\u001b[0m: name 'hplot' is not defined"
     ]
    }
   ],
   "source": [
    "show(hplot(p1, p2,))"
   ]
  },
  {
   "cell_type": "markdown",
   "metadata": {},
   "source": [
    "# Workaround"
   ]
  },
  {
   "cell_type": "code",
   "execution_count": 32,
   "metadata": {},
   "outputs": [
    {
     "data": {
      "text/html": [
       "<script type=\"text/javascript\">\n",
       "        Bokeh.$(function() {\n",
       "            var all_models = [{\"id\": \"20660299-cc60-4d08-befe-1f57ee5a4ab0\", \"type\": \"DataRange1d\", \"attributes\": {\"tags\": [], \"doc\": null, \"callback\": null, \"id\": \"20660299-cc60-4d08-befe-1f57ee5a4ab0\", \"renderers\": [], \"names\": []}}, {\"id\": \"c9d442d5-8eba-485a-ba6e-f90c6962fd36\", \"type\": \"LinearAxis\", \"attributes\": {\"tags\": [], \"doc\": null, \"formatter\": {\"id\": \"d0b32aa3-17e6-43df-ab37-5be1be6e9908\", \"type\": \"BasicTickFormatter\"}, \"id\": \"c9d442d5-8eba-485a-ba6e-f90c6962fd36\", \"plot\": {\"subtype\": \"Figure\", \"id\": \"c06ed835-ee45-4e26-bcff-09626e2e3f2a\", \"type\": \"Plot\"}, \"ticker\": {\"id\": \"5fbc9a44-fe15-4cc5-a45d-5ba1f35410c2\", \"type\": \"BasicTicker\"}}}, {\"id\": \"f3f66579-1eb2-492a-839d-1f0084cb31a1\", \"type\": \"GlyphRenderer\", \"attributes\": {\"tags\": [], \"nonselection_glyph\": {\"id\": \"d44ce6d3-ff09-4a0f-8e8f-4175fff9d9ee\", \"type\": \"Square\"}, \"doc\": null, \"data_source\": {\"id\": \"f83bf63f-1c1a-430c-9be2-92cfbeee6894\", \"type\": \"ColumnDataSource\"}, \"selection_glyph\": null, \"glyph\": {\"id\": \"4d29f90b-3a16-4a0a-91ca-be83fba7ba71\", \"type\": \"Square\"}, \"id\": \"f3f66579-1eb2-492a-839d-1f0084cb31a1\"}}, {\"id\": \"c43dd92b-844b-4d67-b0f2-71d0418ae135\", \"type\": \"BasicTicker\", \"attributes\": {\"tags\": [], \"doc\": null, \"mantissas\": [2, 5, 10], \"num_minor_ticks\": 5, \"id\": \"c43dd92b-844b-4d67-b0f2-71d0418ae135\"}}, {\"id\": \"264915df-7794-4571-99d0-63deab686cc9\", \"type\": \"ToolEvents\", \"attributes\": {\"tags\": [], \"doc\": null, \"id\": \"264915df-7794-4571-99d0-63deab686cc9\", \"geometries\": []}}, {\"id\": \"6c835234-92fa-4e39-bc7b-42592fe24442\", \"type\": \"BasicTicker\", \"attributes\": {\"tags\": [], \"doc\": null, \"mantissas\": [2, 5, 10], \"num_minor_ticks\": 5, \"id\": \"6c835234-92fa-4e39-bc7b-42592fe24442\"}}, {\"id\": \"4d29f90b-3a16-4a0a-91ca-be83fba7ba71\", \"type\": \"Square\", \"attributes\": {\"x\": {\"field\": \"x\"}, \"tags\": [], \"fill_color\": {\"value\": \"green\"}, \"y\": {\"field\": \"y\"}, \"doc\": null, \"line_alpha\": {\"value\": 1.0}, \"fill_alpha\": {\"value\": 1.0}, \"id\": \"4d29f90b-3a16-4a0a-91ca-be83fba7ba71\", \"line_color\": {\"value\": \"green\"}}}, {\"id\": \"15930c62-8820-4c3b-b1c5-e9ece2e20d73\", \"type\": \"ResetTool\", \"attributes\": {\"tags\": [], \"doc\": null, \"id\": \"15930c62-8820-4c3b-b1c5-e9ece2e20d73\", \"plot\": {\"subtype\": \"Figure\", \"id\": \"c06ed835-ee45-4e26-bcff-09626e2e3f2a\", \"type\": \"Plot\"}}}, {\"id\": \"5f1044b8-03c3-4cc4-8338-fa4668121995\", \"type\": \"ColumnDataSource\", \"attributes\": {\"selected\": {\"2d\": {\"indices\": []}, \"1d\": {\"indices\": []}, \"0d\": {\"flag\": false, \"indices\": []}}, \"tags\": [], \"data\": {\"x\": [0.0, 0.12693303650867852, 0.25386607301735703, 0.3807991095260356, 0.5077321460347141, 0.6346651825433925, 0.7615982190520711, 0.8885312555607496, 1.0154642920694281, 1.1423973285781066, 1.269330365086785, 1.3962634015954636, 1.5231964381041423, 1.6501294746128208, 1.7770625111214993, 1.9039955476301778, 2.0309285841388562, 2.1578616206475347, 2.284794657156213, 2.4117276936648917, 2.53866073017357, 2.6655937666822487, 2.792526803190927, 2.9194598396996057, 3.0463928762082846, 3.173325912716963, 3.3002589492256416, 3.42719198573432, 3.5541250222429985, 3.681058058751677, 3.8079910952603555, 3.934924131769034, 4.0618571682777125, 4.188790204786391, 4.3157232412950695, 4.442656277803748, 4.569589314312426, 4.696522350821105, 4.823455387329783, 4.950388423838462, 5.07732146034714, 5.204254496855819, 5.331187533364497, 5.458120569873176, 5.585053606381854, 5.711986642890533, 5.838919679399211, 5.96585271590789, 6.092785752416569, 6.219718788925247, 6.346651825433926, 6.473584861942604, 6.600517898451283, 6.727450934959961, 6.85438397146864, 6.981317007977318, 7.108250044485997, 7.235183080994675, 7.362116117503354, 7.489049154012032, 7.615982190520711, 7.742915227029389, 7.869848263538068, 7.996781300046746, 8.123714336555425, 8.250647373064103, 8.377580409572783, 8.50451344608146, 8.631446482590139, 8.758379519098817, 8.885312555607497, 9.012245592116175, 9.139178628624853, 9.266111665133531, 9.39304470164221, 9.519977738150889, 9.646910774659567, 9.773843811168245, 9.900776847676925, 10.027709884185603, 10.15464292069428, 10.28157595720296, 10.408508993711639, 10.535442030220317, 10.662375066728995, 10.789308103237675, 10.916241139746353, 11.04317417625503, 11.170107212763709, 11.297040249272388, 11.423973285781067, 11.550906322289745, 11.677839358798423, 11.804772395307102, 11.93170543181578, 12.058638468324459, 12.185571504833138, 12.312504541341816, 12.439437577850494, 12.566370614359172], \"y\": [0.0, 0.12659245357374926, 0.2511479871810792, 0.3716624556603276, 0.4861967361004687, 0.5929079290546404, 0.690079011482112, 0.7761464642917568, 0.8497254299495144, 0.9096319953545183, 0.9549022414440739, 0.984807753012208, 0.998867339183008, 0.9968547759519424, 0.9788024462147787, 0.9450008187146685, 0.8959937742913359, 0.8325698546347714, 0.7557495743542583, 0.6667690005162917, 0.5670598638627709, 0.4582265217274105, 0.3420201433256689, 0.2203105327865408, 0.09505604330418244, -0.03172793349806786, -0.15800139597335008, -0.28173255684142984, -0.4009305354066138, -0.5136773915734064, -0.6181589862206053, -0.7126941713788629, -0.7957618405308321, -0.8660254037844388, -0.9223542941045814, -0.9638421585599422, -0.9898214418809327, -0.9998741276738751, -0.9938384644612541, -0.9718115683235417, -0.9341478602651068, -0.881453363447582, -0.8145759520503358, -0.7345917086575332, -0.6427876096865396, -0.5406408174555974, -0.4297949120891719, -0.31203344569848707, -0.18925124436040974, -0.06342391965656452, 0.06342391965656492, 0.18925124436041013, 0.31203344569848745, 0.4297949120891715, 0.5406408174555978, 0.6427876096865391, 0.7345917086575334, 0.8145759520503356, 0.8814533634475821, 0.9341478602651067, 0.9718115683235418, 0.9938384644612541, 0.9998741276738751, 0.9898214418809328, 0.963842158559942, 0.9223542941045816, 0.8660254037844383, 0.7957618405308319, 0.7126941713788629, 0.6181589862206056, 0.5136773915734058, 0.40093053540661344, 0.2817325568414299, 0.15800139597335056, 0.03172793349806701, -0.09505604330418282, -0.22031053278654034, -0.342020143325668, -0.45822652172741085, -0.5670598638627707, -0.6667690005162913, -0.7557495743542588, -0.8325698546347716, -0.8959937742913359, -0.9450008187146683, -0.9788024462147789, -0.9968547759519424, -0.998867339183008, -0.9848077530122081, -0.9549022414440737, -0.9096319953545183, -0.8497254299495145, -0.7761464642917573, -0.6900790114821116, -0.5929079290546404, -0.48619673610046904, -0.3716624556603267, -0.2511479871810788, -0.1265924535737493, -4.898587196589413e-16]}, \"column_names\": [\"x\", \"y\"], \"doc\": null, \"id\": \"5f1044b8-03c3-4cc4-8338-fa4668121995\", \"callback\": null}}, {\"id\": \"49ea800f-324c-4ded-ba18-1cf30c8a452a\", \"type\": \"BasicTickFormatter\", \"attributes\": {\"tags\": [], \"doc\": null, \"id\": \"49ea800f-324c-4ded-ba18-1cf30c8a452a\"}}, {\"id\": \"47452cdc-a019-4358-ad3a-314e393bd182\", \"type\": \"VBox\", \"attributes\": {\"tags\": [], \"doc\": null, \"children\": [{\"id\": \"ee861c61-cfe2-4e3a-ab51-4e88ac3bcca4\", \"type\": \"HBox\"}], \"id\": \"47452cdc-a019-4358-ad3a-314e393bd182\"}}, {\"id\": \"43d10c18-545f-49ec-9120-bb04c44bf9e6\", \"type\": \"LinearAxis\", \"attributes\": {\"tags\": [], \"doc\": null, \"formatter\": {\"id\": \"16f88574-24e0-4f00-acdf-7c2ac0f8d5c2\", \"type\": \"BasicTickFormatter\"}, \"id\": \"43d10c18-545f-49ec-9120-bb04c44bf9e6\", \"plot\": {\"subtype\": \"Figure\", \"id\": \"16f17c91-9d44-4667-9677-d29904609b58\", \"type\": \"Plot\"}, \"ticker\": {\"id\": \"6c90668e-232d-40ff-a442-e17909d50f70\", \"type\": \"BasicTicker\"}}}, {\"id\": \"ee861c61-cfe2-4e3a-ab51-4e88ac3bcca4\", \"type\": \"HBox\", \"attributes\": {\"tags\": [], \"doc\": null, \"children\": [{\"subtype\": \"Figure\", \"id\": \"c06ed835-ee45-4e26-bcff-09626e2e3f2a\", \"type\": \"Plot\"}, {\"subtype\": \"Figure\", \"id\": \"16f17c91-9d44-4667-9677-d29904609b58\", \"type\": \"Plot\"}], \"id\": \"ee861c61-cfe2-4e3a-ab51-4e88ac3bcca4\"}}, {\"id\": \"45356804-63e0-4dd1-868b-44cfdfecf6d4\", \"type\": \"Square\", \"attributes\": {\"x\": {\"field\": \"x\"}, \"tags\": [], \"fill_color\": {\"value\": \"blue\"}, \"y\": {\"field\": \"y\"}, \"doc\": null, \"line_alpha\": {\"value\": 1.0}, \"fill_alpha\": {\"value\": 1.0}, \"id\": \"45356804-63e0-4dd1-868b-44cfdfecf6d4\", \"line_color\": {\"value\": \"blue\"}}}, {\"id\": \"16f88574-24e0-4f00-acdf-7c2ac0f8d5c2\", \"type\": \"BasicTickFormatter\", \"attributes\": {\"tags\": [], \"doc\": null, \"id\": \"16f88574-24e0-4f00-acdf-7c2ac0f8d5c2\"}}, {\"id\": \"cc6fae29-aaef-44c9-9e2a-28072582f5a7\", \"type\": \"BoxSelectTool\", \"attributes\": {\"tags\": [], \"doc\": null, \"id\": \"cc6fae29-aaef-44c9-9e2a-28072582f5a7\", \"callback\": null, \"dimensions\": [\"width\", \"height\"], \"plot\": {\"subtype\": \"Figure\", \"id\": \"c06ed835-ee45-4e26-bcff-09626e2e3f2a\", \"type\": \"Plot\"}, \"renderers\": [{\"id\": \"f3f66579-1eb2-492a-839d-1f0084cb31a1\", \"type\": \"GlyphRenderer\"}], \"names\": []}}, {\"id\": \"bf566870-c518-4341-bb98-06d4f937f714\", \"type\": \"ToolEvents\", \"attributes\": {\"tags\": [], \"doc\": null, \"id\": \"bf566870-c518-4341-bb98-06d4f937f714\", \"geometries\": []}}, {\"id\": \"6c90668e-232d-40ff-a442-e17909d50f70\", \"type\": \"BasicTicker\", \"attributes\": {\"tags\": [], \"doc\": null, \"mantissas\": [2, 5, 10], \"num_minor_ticks\": 5, \"id\": \"6c90668e-232d-40ff-a442-e17909d50f70\"}}, {\"id\": \"02d2647b-80f9-4619-b2f8-6a39d16754cd\", \"type\": \"Square\", \"attributes\": {\"x\": {\"field\": \"x\"}, \"tags\": [], \"fill_color\": {\"value\": \"#1f77b4\"}, \"y\": {\"field\": \"y\"}, \"doc\": null, \"line_alpha\": {\"value\": 0.1}, \"fill_alpha\": {\"value\": 0.1}, \"id\": \"02d2647b-80f9-4619-b2f8-6a39d16754cd\", \"line_color\": {\"value\": \"#1f77b4\"}}}, {\"subtype\": \"Figure\", \"id\": \"16f17c91-9d44-4667-9677-d29904609b58\", \"type\": \"Plot\", \"attributes\": {\"right\": [], \"y_range\": {\"id\": \"b6cffeb1-9c9a-4df4-9c4f-6c5e06d9adf2\", \"type\": \"DataRange1d\"}, \"doc\": null, \"left\": [{\"id\": \"a047b3db-328a-4b6e-923c-619cc9f6780c\", \"type\": \"LinearAxis\"}], \"tools\": [{\"id\": \"01464127-506e-42d8-9b92-3d457d079a62\", \"type\": \"PanTool\"}, {\"id\": \"af8c88df-fdcb-47d2-9db5-cebab920fc94\", \"type\": \"WheelZoomTool\"}, {\"id\": \"d3ce4aae-0ae1-4df7-9857-bb4de4fd6a55\", \"type\": \"BoxZoomTool\"}, {\"id\": \"e8c123f0-7bd5-4aac-8655-4022cecbf3e4\", \"type\": \"ResetTool\"}, {\"id\": \"3e3bde58-d610-45f7-aefb-f6f67b083a54\", \"type\": \"PreviewSaveTool\"}, {\"id\": \"3c7c15cc-ac53-4224-a7d2-76a8980fbb48\", \"type\": \"BoxSelectTool\"}], \"below\": [{\"id\": \"43d10c18-545f-49ec-9120-bb04c44bf9e6\", \"type\": \"LinearAxis\"}], \"renderers\": [{\"id\": \"43d10c18-545f-49ec-9120-bb04c44bf9e6\", \"type\": \"LinearAxis\"}, {\"id\": \"6c094139-2e11-49ba-b13f-a93c7d7c10d8\", \"type\": \"Grid\"}, {\"id\": \"a047b3db-328a-4b6e-923c-619cc9f6780c\", \"type\": \"LinearAxis\"}, {\"id\": \"91346152-81e5-4321-9889-07c5671021bd\", \"type\": \"Grid\"}, {\"id\": \"2c0d8590-1373-41b7-983c-66b96b8dc3c4\", \"type\": \"GlyphRenderer\"}], \"tags\": [], \"plot_width\": 300, \"x_range\": {\"id\": \"b0513456-dbbf-4d29-847b-a44fc1b67339\", \"type\": \"DataRange1d\"}, \"plot_height\": 300, \"extra_y_ranges\": {}, \"extra_x_ranges\": {}, \"id\": \"16f17c91-9d44-4667-9677-d29904609b58\", \"above\": [], \"tool_events\": {\"id\": \"bf566870-c518-4341-bb98-06d4f937f714\", \"type\": \"ToolEvents\"}}}, {\"id\": \"2c0d8590-1373-41b7-983c-66b96b8dc3c4\", \"type\": \"GlyphRenderer\", \"attributes\": {\"tags\": [], \"nonselection_glyph\": {\"id\": \"02d2647b-80f9-4619-b2f8-6a39d16754cd\", \"type\": \"Square\"}, \"doc\": null, \"data_source\": {\"id\": \"5f1044b8-03c3-4cc4-8338-fa4668121995\", \"type\": \"ColumnDataSource\"}, \"selection_glyph\": null, \"glyph\": {\"id\": \"45356804-63e0-4dd1-868b-44cfdfecf6d4\", \"type\": \"Square\"}, \"id\": \"2c0d8590-1373-41b7-983c-66b96b8dc3c4\"}}, {\"subtype\": \"Figure\", \"id\": \"c06ed835-ee45-4e26-bcff-09626e2e3f2a\", \"type\": \"Plot\", \"attributes\": {\"right\": [], \"y_range\": {\"id\": \"e3c8c462-30de-475f-825f-261bb15e80c0\", \"type\": \"DataRange1d\"}, \"doc\": null, \"left\": [{\"id\": \"c9d442d5-8eba-485a-ba6e-f90c6962fd36\", \"type\": \"LinearAxis\"}], \"tools\": [{\"id\": \"b68cad44-dc61-4cdf-bb83-0dc59eb54400\", \"type\": \"PanTool\"}, {\"id\": \"df015629-7893-486c-8153-af7dde05ff9f\", \"type\": \"WheelZoomTool\"}, {\"id\": \"7bfb5dde-6929-407b-bd03-bd384e4835ea\", \"type\": \"BoxZoomTool\"}, {\"id\": \"15930c62-8820-4c3b-b1c5-e9ece2e20d73\", \"type\": \"ResetTool\"}, {\"id\": \"d7e18d4c-7b96-4744-8ceb-685fa0949111\", \"type\": \"PreviewSaveTool\"}, {\"id\": \"cc6fae29-aaef-44c9-9e2a-28072582f5a7\", \"type\": \"BoxSelectTool\"}], \"below\": [{\"id\": \"75f9a1db-02f7-4c85-8b0c-8b5c74f72735\", \"type\": \"LinearAxis\"}], \"renderers\": [{\"id\": \"75f9a1db-02f7-4c85-8b0c-8b5c74f72735\", \"type\": \"LinearAxis\"}, {\"id\": \"3b4db580-1f70-4627-92b9-4349ebbc09b2\", \"type\": \"Grid\"}, {\"id\": \"c9d442d5-8eba-485a-ba6e-f90c6962fd36\", \"type\": \"LinearAxis\"}, {\"id\": \"8ef49e4f-2360-4f96-972d-73013750b063\", \"type\": \"Grid\"}, {\"id\": \"f3f66579-1eb2-492a-839d-1f0084cb31a1\", \"type\": \"GlyphRenderer\"}], \"tags\": [], \"plot_width\": 300, \"x_range\": {\"id\": \"20660299-cc60-4d08-befe-1f57ee5a4ab0\", \"type\": \"DataRange1d\"}, \"plot_height\": 300, \"extra_y_ranges\": {}, \"extra_x_ranges\": {}, \"id\": \"c06ed835-ee45-4e26-bcff-09626e2e3f2a\", \"above\": [], \"tool_events\": {\"id\": \"264915df-7794-4571-99d0-63deab686cc9\", \"type\": \"ToolEvents\"}}}, {\"id\": \"be8e9275-0c0a-4fd0-a9a2-f760c62960b7\", \"type\": \"BasicTickFormatter\", \"attributes\": {\"tags\": [], \"doc\": null, \"id\": \"be8e9275-0c0a-4fd0-a9a2-f760c62960b7\"}}, {\"id\": \"d0b32aa3-17e6-43df-ab37-5be1be6e9908\", \"type\": \"BasicTickFormatter\", \"attributes\": {\"tags\": [], \"doc\": null, \"id\": \"d0b32aa3-17e6-43df-ab37-5be1be6e9908\"}}, {\"id\": \"a047b3db-328a-4b6e-923c-619cc9f6780c\", \"type\": \"LinearAxis\", \"attributes\": {\"tags\": [], \"doc\": null, \"formatter\": {\"id\": \"be8e9275-0c0a-4fd0-a9a2-f760c62960b7\", \"type\": \"BasicTickFormatter\"}, \"id\": \"a047b3db-328a-4b6e-923c-619cc9f6780c\", \"plot\": {\"subtype\": \"Figure\", \"id\": \"16f17c91-9d44-4667-9677-d29904609b58\", \"type\": \"Plot\"}, \"ticker\": {\"id\": \"6c835234-92fa-4e39-bc7b-42592fe24442\", \"type\": \"BasicTicker\"}}}, {\"id\": \"7bfb5dde-6929-407b-bd03-bd384e4835ea\", \"type\": \"BoxZoomTool\", \"attributes\": {\"tags\": [], \"doc\": null, \"dimensions\": [\"width\", \"height\"], \"plot\": {\"subtype\": \"Figure\", \"id\": \"c06ed835-ee45-4e26-bcff-09626e2e3f2a\", \"type\": \"Plot\"}, \"id\": \"7bfb5dde-6929-407b-bd03-bd384e4835ea\"}}, {\"id\": \"f83bf63f-1c1a-430c-9be2-92cfbeee6894\", \"type\": \"ColumnDataSource\", \"attributes\": {\"selected\": {\"2d\": {\"indices\": []}, \"1d\": {\"indices\": []}, \"0d\": {\"flag\": false, \"indices\": []}}, \"tags\": [], \"data\": {\"x\": [0.0, 0.12693303650867852, 0.25386607301735703, 0.3807991095260356, 0.5077321460347141, 0.6346651825433925, 0.7615982190520711, 0.8885312555607496, 1.0154642920694281, 1.1423973285781066, 1.269330365086785, 1.3962634015954636, 1.5231964381041423, 1.6501294746128208, 1.7770625111214993, 1.9039955476301778, 2.0309285841388562, 2.1578616206475347, 2.284794657156213, 2.4117276936648917, 2.53866073017357, 2.6655937666822487, 2.792526803190927, 2.9194598396996057, 3.0463928762082846, 3.173325912716963, 3.3002589492256416, 3.42719198573432, 3.5541250222429985, 3.681058058751677, 3.8079910952603555, 3.934924131769034, 4.0618571682777125, 4.188790204786391, 4.3157232412950695, 4.442656277803748, 4.569589314312426, 4.696522350821105, 4.823455387329783, 4.950388423838462, 5.07732146034714, 5.204254496855819, 5.331187533364497, 5.458120569873176, 5.585053606381854, 5.711986642890533, 5.838919679399211, 5.96585271590789, 6.092785752416569, 6.219718788925247, 6.346651825433926, 6.473584861942604, 6.600517898451283, 6.727450934959961, 6.85438397146864, 6.981317007977318, 7.108250044485997, 7.235183080994675, 7.362116117503354, 7.489049154012032, 7.615982190520711, 7.742915227029389, 7.869848263538068, 7.996781300046746, 8.123714336555425, 8.250647373064103, 8.377580409572783, 8.50451344608146, 8.631446482590139, 8.758379519098817, 8.885312555607497, 9.012245592116175, 9.139178628624853, 9.266111665133531, 9.39304470164221, 9.519977738150889, 9.646910774659567, 9.773843811168245, 9.900776847676925, 10.027709884185603, 10.15464292069428, 10.28157595720296, 10.408508993711639, 10.535442030220317, 10.662375066728995, 10.789308103237675, 10.916241139746353, 11.04317417625503, 11.170107212763709, 11.297040249272388, 11.423973285781067, 11.550906322289745, 11.677839358798423, 11.804772395307102, 11.93170543181578, 12.058638468324459, 12.185571504833138, 12.312504541341816, 12.439437577850494, 12.566370614359172], \"y\": [0.0, 0.12659245357374926, 0.2511479871810792, 0.3716624556603276, 0.4861967361004687, 0.5929079290546404, 0.690079011482112, 0.7761464642917568, 0.8497254299495144, 0.9096319953545183, 0.9549022414440739, 0.984807753012208, 0.998867339183008, 0.9968547759519424, 0.9788024462147787, 0.9450008187146685, 0.8959937742913359, 0.8325698546347714, 0.7557495743542583, 0.6667690005162917, 0.5670598638627709, 0.4582265217274105, 0.3420201433256689, 0.2203105327865408, 0.09505604330418244, -0.03172793349806786, -0.15800139597335008, -0.28173255684142984, -0.4009305354066138, -0.5136773915734064, -0.6181589862206053, -0.7126941713788629, -0.7957618405308321, -0.8660254037844388, -0.9223542941045814, -0.9638421585599422, -0.9898214418809327, -0.9998741276738751, -0.9938384644612541, -0.9718115683235417, -0.9341478602651068, -0.881453363447582, -0.8145759520503358, -0.7345917086575332, -0.6427876096865396, -0.5406408174555974, -0.4297949120891719, -0.31203344569848707, -0.18925124436040974, -0.06342391965656452, 0.06342391965656492, 0.18925124436041013, 0.31203344569848745, 0.4297949120891715, 0.5406408174555978, 0.6427876096865391, 0.7345917086575334, 0.8145759520503356, 0.8814533634475821, 0.9341478602651067, 0.9718115683235418, 0.9938384644612541, 0.9998741276738751, 0.9898214418809328, 0.963842158559942, 0.9223542941045816, 0.8660254037844383, 0.7957618405308319, 0.7126941713788629, 0.6181589862206056, 0.5136773915734058, 0.40093053540661344, 0.2817325568414299, 0.15800139597335056, 0.03172793349806701, -0.09505604330418282, -0.22031053278654034, -0.342020143325668, -0.45822652172741085, -0.5670598638627707, -0.6667690005162913, -0.7557495743542588, -0.8325698546347716, -0.8959937742913359, -0.9450008187146683, -0.9788024462147789, -0.9968547759519424, -0.998867339183008, -0.9848077530122081, -0.9549022414440737, -0.9096319953545183, -0.8497254299495145, -0.7761464642917573, -0.6900790114821116, -0.5929079290546404, -0.48619673610046904, -0.3716624556603267, -0.2511479871810788, -0.1265924535737493, -4.898587196589413e-16]}, \"column_names\": [\"x\", \"y\"], \"doc\": null, \"id\": \"f83bf63f-1c1a-430c-9be2-92cfbeee6894\", \"callback\": null}}, {\"id\": \"b0513456-dbbf-4d29-847b-a44fc1b67339\", \"type\": \"DataRange1d\", \"attributes\": {\"tags\": [], \"doc\": null, \"callback\": null, \"id\": \"b0513456-dbbf-4d29-847b-a44fc1b67339\", \"renderers\": [], \"names\": []}}, {\"id\": \"91346152-81e5-4321-9889-07c5671021bd\", \"type\": \"Grid\", \"attributes\": {\"tags\": [], \"doc\": null, \"id\": \"91346152-81e5-4321-9889-07c5671021bd\", \"plot\": {\"subtype\": \"Figure\", \"id\": \"16f17c91-9d44-4667-9677-d29904609b58\", \"type\": \"Plot\"}, \"dimension\": 1, \"ticker\": {\"id\": \"6c835234-92fa-4e39-bc7b-42592fe24442\", \"type\": \"BasicTicker\"}}}, {\"id\": \"b6cffeb1-9c9a-4df4-9c4f-6c5e06d9adf2\", \"type\": \"DataRange1d\", \"attributes\": {\"tags\": [], \"doc\": null, \"callback\": null, \"id\": \"b6cffeb1-9c9a-4df4-9c4f-6c5e06d9adf2\", \"renderers\": [], \"names\": []}}, {\"id\": \"df015629-7893-486c-8153-af7dde05ff9f\", \"type\": \"WheelZoomTool\", \"attributes\": {\"tags\": [], \"doc\": null, \"dimensions\": [\"width\", \"height\"], \"plot\": {\"subtype\": \"Figure\", \"id\": \"c06ed835-ee45-4e26-bcff-09626e2e3f2a\", \"type\": \"Plot\"}, \"id\": \"df015629-7893-486c-8153-af7dde05ff9f\"}}, {\"id\": \"b68cad44-dc61-4cdf-bb83-0dc59eb54400\", \"type\": \"PanTool\", \"attributes\": {\"tags\": [], \"doc\": null, \"dimensions\": [\"width\", \"height\"], \"plot\": {\"subtype\": \"Figure\", \"id\": \"c06ed835-ee45-4e26-bcff-09626e2e3f2a\", \"type\": \"Plot\"}, \"id\": \"b68cad44-dc61-4cdf-bb83-0dc59eb54400\"}}, {\"id\": \"af8c88df-fdcb-47d2-9db5-cebab920fc94\", \"type\": \"WheelZoomTool\", \"attributes\": {\"tags\": [], \"doc\": null, \"dimensions\": [\"width\", \"height\"], \"plot\": {\"subtype\": \"Figure\", \"id\": \"16f17c91-9d44-4667-9677-d29904609b58\", \"type\": \"Plot\"}, \"id\": \"af8c88df-fdcb-47d2-9db5-cebab920fc94\"}}, {\"id\": \"01464127-506e-42d8-9b92-3d457d079a62\", \"type\": \"PanTool\", \"attributes\": {\"tags\": [], \"doc\": null, \"dimensions\": [\"width\", \"height\"], \"plot\": {\"subtype\": \"Figure\", \"id\": \"16f17c91-9d44-4667-9677-d29904609b58\", \"type\": \"Plot\"}, \"id\": \"01464127-506e-42d8-9b92-3d457d079a62\"}}, {\"id\": \"d7e18d4c-7b96-4744-8ceb-685fa0949111\", \"type\": \"PreviewSaveTool\", \"attributes\": {\"tags\": [], \"doc\": null, \"id\": \"d7e18d4c-7b96-4744-8ceb-685fa0949111\", \"plot\": {\"subtype\": \"Figure\", \"id\": \"c06ed835-ee45-4e26-bcff-09626e2e3f2a\", \"type\": \"Plot\"}}}, {\"id\": \"d3ce4aae-0ae1-4df7-9857-bb4de4fd6a55\", \"type\": \"BoxZoomTool\", \"attributes\": {\"tags\": [], \"doc\": null, \"dimensions\": [\"width\", \"height\"], \"plot\": {\"subtype\": \"Figure\", \"id\": \"16f17c91-9d44-4667-9677-d29904609b58\", \"type\": \"Plot\"}, \"id\": \"d3ce4aae-0ae1-4df7-9857-bb4de4fd6a55\"}}, {\"id\": \"e3c8c462-30de-475f-825f-261bb15e80c0\", \"type\": \"DataRange1d\", \"attributes\": {\"tags\": [], \"doc\": null, \"callback\": null, \"id\": \"e3c8c462-30de-475f-825f-261bb15e80c0\", \"renderers\": [], \"names\": []}}, {\"id\": \"e8c123f0-7bd5-4aac-8655-4022cecbf3e4\", \"type\": \"ResetTool\", \"attributes\": {\"tags\": [], \"doc\": null, \"id\": \"e8c123f0-7bd5-4aac-8655-4022cecbf3e4\", \"plot\": {\"subtype\": \"Figure\", \"id\": \"16f17c91-9d44-4667-9677-d29904609b58\", \"type\": \"Plot\"}}}, {\"id\": \"8ef49e4f-2360-4f96-972d-73013750b063\", \"type\": \"Grid\", \"attributes\": {\"tags\": [], \"doc\": null, \"id\": \"8ef49e4f-2360-4f96-972d-73013750b063\", \"plot\": {\"subtype\": \"Figure\", \"id\": \"c06ed835-ee45-4e26-bcff-09626e2e3f2a\", \"type\": \"Plot\"}, \"dimension\": 1, \"ticker\": {\"id\": \"5fbc9a44-fe15-4cc5-a45d-5ba1f35410c2\", \"type\": \"BasicTicker\"}}}, {\"id\": \"3e3bde58-d610-45f7-aefb-f6f67b083a54\", \"type\": \"PreviewSaveTool\", \"attributes\": {\"tags\": [], \"doc\": null, \"id\": \"3e3bde58-d610-45f7-aefb-f6f67b083a54\", \"plot\": {\"subtype\": \"Figure\", \"id\": \"16f17c91-9d44-4667-9677-d29904609b58\", \"type\": \"Plot\"}}}, {\"id\": \"6c094139-2e11-49ba-b13f-a93c7d7c10d8\", \"type\": \"Grid\", \"attributes\": {\"tags\": [], \"doc\": null, \"id\": \"6c094139-2e11-49ba-b13f-a93c7d7c10d8\", \"plot\": {\"subtype\": \"Figure\", \"id\": \"16f17c91-9d44-4667-9677-d29904609b58\", \"type\": \"Plot\"}, \"dimension\": 0, \"ticker\": {\"id\": \"6c90668e-232d-40ff-a442-e17909d50f70\", \"type\": \"BasicTicker\"}}}, {\"id\": \"3c7c15cc-ac53-4224-a7d2-76a8980fbb48\", \"type\": \"BoxSelectTool\", \"attributes\": {\"tags\": [], \"doc\": null, \"id\": \"3c7c15cc-ac53-4224-a7d2-76a8980fbb48\", \"callback\": null, \"dimensions\": [\"width\", \"height\"], \"plot\": {\"subtype\": \"Figure\", \"id\": \"16f17c91-9d44-4667-9677-d29904609b58\", \"type\": \"Plot\"}, \"renderers\": [{\"id\": \"2c0d8590-1373-41b7-983c-66b96b8dc3c4\", \"type\": \"GlyphRenderer\"}], \"names\": []}}, {\"id\": \"5fbc9a44-fe15-4cc5-a45d-5ba1f35410c2\", \"type\": \"BasicTicker\", \"attributes\": {\"tags\": [], \"doc\": null, \"mantissas\": [2, 5, 10], \"num_minor_ticks\": 5, \"id\": \"5fbc9a44-fe15-4cc5-a45d-5ba1f35410c2\"}}, {\"id\": \"3b4db580-1f70-4627-92b9-4349ebbc09b2\", \"type\": \"Grid\", \"attributes\": {\"tags\": [], \"doc\": null, \"id\": \"3b4db580-1f70-4627-92b9-4349ebbc09b2\", \"plot\": {\"subtype\": \"Figure\", \"id\": \"c06ed835-ee45-4e26-bcff-09626e2e3f2a\", \"type\": \"Plot\"}, \"dimension\": 0, \"ticker\": {\"id\": \"c43dd92b-844b-4d67-b0f2-71d0418ae135\", \"type\": \"BasicTicker\"}}}, {\"id\": \"d44ce6d3-ff09-4a0f-8e8f-4175fff9d9ee\", \"type\": \"Square\", \"attributes\": {\"x\": {\"field\": \"x\"}, \"tags\": [], \"fill_color\": {\"value\": \"#1f77b4\"}, \"y\": {\"field\": \"y\"}, \"doc\": null, \"line_alpha\": {\"value\": 0.1}, \"fill_alpha\": {\"value\": 0.1}, \"id\": \"d44ce6d3-ff09-4a0f-8e8f-4175fff9d9ee\", \"line_color\": {\"value\": \"#1f77b4\"}}}, {\"id\": \"75f9a1db-02f7-4c85-8b0c-8b5c74f72735\", \"type\": \"LinearAxis\", \"attributes\": {\"tags\": [], \"doc\": null, \"formatter\": {\"id\": \"49ea800f-324c-4ded-ba18-1cf30c8a452a\", \"type\": \"BasicTickFormatter\"}, \"id\": \"75f9a1db-02f7-4c85-8b0c-8b5c74f72735\", \"plot\": {\"subtype\": \"Figure\", \"id\": \"c06ed835-ee45-4e26-bcff-09626e2e3f2a\", \"type\": \"Plot\"}, \"ticker\": {\"id\": \"c43dd92b-844b-4d67-b0f2-71d0418ae135\", \"type\": \"BasicTicker\"}}}];\n",
       "            Bokeh.load_models(all_models);\n",
       "            var plots = [{'modelid': '47452cdc-a019-4358-ad3a-314e393bd182', 'modeltype': 'VBox', 'elementid': '#43265f8a-0fef-4203-96b3-7f7100e76338'}];\n",
       "            for (idx in plots) {\n",
       "            \tvar plot = plots[idx];\n",
       "            \tvar model = Bokeh.Collections(plot.modeltype).get(plot.modelid);\n",
       "            \tBokeh.logger.info('Realizing plot:')\n",
       "            \tBokeh.logger.info(' - modeltype: ' + plot.modeltype);\n",
       "            \tBokeh.logger.info(' - modelid: ' + plot.modelid);\n",
       "            \tBokeh.logger.info(' - elementid: ' + plot.elementid);\n",
       "            \tvar view = new model.default_view({\n",
       "            \t\tmodel: model,\n",
       "            \t\tel: plot.elementid\n",
       "            \t});\n",
       "            \tBokeh.index[plot.modelid] = view;\n",
       "            }\n",
       "        });\n",
       "    </script>\n",
       "<div class=\"plotdiv\" id=\"43265f8a-0fef-4203-96b3-7f7100e76338\"></div>\n",
       "\n"
      ]
     },
     "metadata": {},
     "output_type": "display_data"
    }
   ],
   "source": [
    "show(vplot(hplot(p3, p4,)))"
   ]
  }
 ],
 "metadata": {
  "kernelspec": {
   "display_name": "Python 3",
   "language": "python",
   "name": "python3"
  },
  "language_info": {
   "codemirror_mode": {
    "name": "ipython",
    "version": 3
   },
   "file_extension": ".py",
   "mimetype": "text/x-python",
   "name": "python",
   "nbconvert_exporter": "python",
   "pygments_lexer": "ipython3",
   "version": "3.6.3"
  }
 },
 "nbformat": 4,
 "nbformat_minor": 1
}
